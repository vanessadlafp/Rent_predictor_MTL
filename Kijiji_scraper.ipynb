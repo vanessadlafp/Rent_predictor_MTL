{
 "cells": [
  {
   "cell_type": "code",
   "execution_count": 1,
   "id": "acf27fd2",
   "metadata": {},
   "outputs": [],
   "source": [
    "import requests\n",
    "import urllib.request\n",
    "import time\n",
    "from bs4 import BeautifulSoup\n",
    "import re\n",
    "import pandas as pd\n",
    "import numpy\n",
    "import time\n",
    "from os import path"
   ]
  },
  {
   "cell_type": "code",
   "execution_count": 2,
   "id": "6dddd488",
   "metadata": {},
   "outputs": [],
   "source": [
    "url = 'https://www.kijiji.ca/b-a-louer/ville-de-montreal'\n",
    "baseurl = 'https://www.kijiji.ca'\n",
    "baseForMontreal = '/c30349001l1700281'\n",
    "pageNos = '/page-'\n",
    "apartment = 'b-appartement-condo'\n",
    "roomRent = 'b-chambres-a-louer-colocataire'\n",
    "adurl = []\n",
    "listing = []\n",
    "urlToSave = []\n",
    "title = []\n",
    "prices = []\n",
    "description = []\n",
    "location = []\n",
    "datePosted = []\n",
    "features = []\n",
    "linksFromText = []\n",
    "listingType = []\n",
    "adId = []\n",
    "savePoints = [1000,2000,3000,4000,5000,6000,7000]"
   ]
  },
  {
   "cell_type": "code",
   "execution_count": 6,
   "id": "a633e7b8",
   "metadata": {},
   "outputs": [],
   "source": [
    "url_final = 'https://www.kijiji.ca/v-appartement-condo/ville-de-montreal/condo-appartement-2cc-a-louer-griffintown-sud-ouest/1548637315'\n",
    "response = requests.get(url_final)\n",
    "soup = BeautifulSoup(response.text, \"lxml\")\n",
    "advtTitles = soup.findAll('div', attrs={'class' : 'title'})\n"
   ]
  },
  {
   "cell_type": "code",
   "execution_count": 9,
   "id": "7c9d4c2b",
   "metadata": {
    "scrolled": true
   },
   "outputs": [
    {
     "data": {
      "text/plain": [
       "['https://www.kijiji.ca/v-appartement-condo/ville-de-montreal/tres-grand-apt-51-2-haut-d-un-duplex/1566419163',\n",
       " 'https://www.kijiji.ca/v-appartement-condo/ville-de-montreal/ddo-514-683-2252-4-5-unit/1505844985',\n",
       " 'https://www.kijiji.ca/v-appartement-condo/ville-de-montreal/beau-4-1-2-renove-pres-de-metro-cadillac/1553548559',\n",
       " 'https://www.kijiji.ca/v-appartement-condo/ville-de-montreal/4-1-2-condo-a-louer-condo-for-rent/1569173740',\n",
       " 'https://www.kijiji.ca/v-appartement-condo/ville-de-montreal/cession-de-bail-ile-des-soeurs-lease-transfer-nuns-island-1-jul/1569456404',\n",
       " 'https://www.kijiji.ca/v-appartement-condo/ville-de-montreal/appartements-vie:-apartment-for-rent-in-downtown-montreal/1569904639',\n",
       " 'https://www.kijiji.ca/v-appartement-condo/ville-de-montreal/saint-leonard-grand-4-1-2-proche-de-tous/1569904463',\n",
       " 'https://www.kijiji.ca/v-appartement-condo/ville-de-montreal/bachelor-mcgill-all-included/1569904408',\n",
       " 'https://www.kijiji.ca/v-appartement-condo/ville-de-montreal/grand-5-1-2-a-louer/1569904359',\n",
       " 'https://www.kijiji.ca/v-appartement-condo/ville-de-montreal/4-1-2-quartier-rosemont-libre-juillet/1569904316',\n",
       " 'https://www.kijiji.ca/v-appartement-condo/ville-de-montreal/3-1-2-730-m-metro-st-michel-5-appliances/1569903992',\n",
       " 'https://www.kijiji.ca/v-appartement-condo/ville-de-montreal/appartement-4-villeray-1305-electros-inclus/1569903684',\n",
       " 'https://www.kijiji.ca/v-appartement-condo/ville-de-montreal/2-1-2-juillet-20-mins-udm-et-metro-cote-des-neiges/1569902043',\n",
       " 'https://www.kijiji.ca/v-appartement-condo/ville-de-montreal/beau-studio-2-1-2-dans-rosemont-tout-inclus-685-juillet/1569897158',\n",
       " 'https://www.kijiji.ca/v-appartement-condo/ville-de-montreal/first-floor-duplex-for-rent-in-lasalle/1569902913',\n",
       " 'https://www.kijiji.ca/v-appartement-condo/ville-de-montreal/4-1-2-apt-visite-vendredi-entre-11:00-et-2:00/1569902911',\n",
       " 'https://www.kijiji.ca/v-appartement-condo/ville-de-montreal/luxury-condo-big-3-in-downtown-near-uqam-and-chum/1569902679',\n",
       " 'https://www.kijiji.ca/v-appartement-condo/ville-de-montreal/4-1-2-au-coeur-du-plateau-face-au-metro-mont-royal/1567826511',\n",
       " 'https://www.kijiji.ca/v-appartement-condo/ville-de-montreal/downtown-berri-uqam-large-1-bedroom-condo-with-private-patio/1569902598',\n",
       " 'https://www.kijiji.ca/v-appartement-condo/ville-de-montreal/4-1-2-juin-renove-a-neuf-20mins-du-metro-et-udm-a-pied/1569902099',\n",
       " 'https://www.kijiji.ca/v-appartement-condo/ville-de-montreal/logement/1569902533',\n",
       " 'https://www.kijiji.ca/v-appartement-condo/ville-de-montreal/grand-4-1-2-avec-cachet/1569902387',\n",
       " 'https://www.kijiji.ca/v-appartement-condo/ville-de-montreal/3-1-2-apt-libre-visite-vendredi-entre-11:00-et-2:00/1569902378',\n",
       " 'https://www.kijiji.ca/v-appartement-condo/ville-de-montreal/ahuntsic-super-41-2-neuf-1er-juillet-sous-sol/1549113770',\n",
       " 'https://www.kijiji.ca/v-location-court-terme/ville-de-montreal/grande-chambre-dans-le-mile-end-big-room-july-or-august/1569901736',\n",
       " 'https://www.kijiji.ca/v-appartement-condo/ville-de-montreal/association-des-proprietaires-du-quebec/1569895601',\n",
       " 'https://www.kijiji.ca/v-chambres-a-louer-colocataire/ville-de-montreal/private-office-desk-space-for-rent-montreal/1569901405',\n",
       " 'https://www.kijiji.ca/v-appartement-condo/ville-de-montreal/9517-rue-lajeunesse-ahuntsic-metro-sauve-ville-de-montreal/1569901380',\n",
       " 'https://www.kijiji.ca/v-appartement-condo/ville-de-montreal/condo-3-1-2-meuble-furnished-wifi-inclu-downtown-jun-jul/1569901345',\n",
       " 'https://www.kijiji.ca/v-chambres-a-louer-colocataire/ville-de-montreal/chambre-en-colocation/1569901204',\n",
       " 'https://www.kijiji.ca/v-appartement-condo/ville-de-montreal/magnifique-4-1-2-avec-emplacement-de-choix/1569901109',\n",
       " 'https://www.kijiji.ca/v-appartement-condo/ville-de-montreal/large-4-1-2-in-ndg/1569900835',\n",
       " 'https://www.kijiji.ca/v-appartement-condo/ville-de-montreal/nouveau-7-1-2-entierement-renove-tetreaultville-montreal/1569900798',\n",
       " 'https://www.kijiji.ca/v-appartement-condo/ville-de-montreal/4-1-2-renove-dans-le-quartier-ahuntsic-deja-libre/1569900760',\n",
       " 'https://www.kijiji.ca/v-appartement-condo/ville-de-montreal/stunning-very-large-2-bedroom-apartment-available-for-july-1st/1569900650',\n",
       " 'https://www.kijiji.ca/v-appartement-condo/ville-de-montreal/association-des-proprietaires-du-quebec/1569897389',\n",
       " 'https://www.kijiji.ca/v-appartement-condo/ville-de-montreal/large-new-build-4-1-2-for-august-1st-flexible-rosemont/1567829986',\n",
       " 'https://www.kijiji.ca/v-appartement-condo/ville-de-montreal/calme-et-lumineux-3-1-2-au-2e-etage-d-un-triplex/1569625168',\n",
       " 'https://www.kijiji.ca/v-appartement-condo/ville-de-montreal/parc-angus-rosemont/1569900004',\n",
       " 'https://www.kijiji.ca/v-chambres-a-louer-colocataire/ville-de-montreal/1-chambre-dans-4-1-2-pres-du-metro-charlevoix/1569899878',\n",
       " 'https://www.kijiji.ca/v-appartement-condo/ville-de-montreal/4-1-2-renove-a-louer-mercier-montreal-libre-immediatement/1569899851',\n",
       " 'https://www.kijiji.ca/v-appartement-condo/ville-de-montreal/promo-prime-downtown-bright-spacious-upgraded-kitchen/1569897951',\n",
       " 'https://www.kijiji.ca/v-appartement-condo/ville-de-montreal/association-des-proprietaires-du-quebec/1569895595',\n",
       " 'https://www.kijiji.ca/v-entreprosages-stationnement/ville-de-montreal/indoor-parking-lot-1211-drummond/1569899218',\n",
       " 'https://www.kijiji.ca/v-appartement-condo/ville-de-montreal/1000sqf-4-1-2-with-pets-allowed/1569899195']"
      ]
     },
     "execution_count": 9,
     "metadata": {},
     "output_type": "execute_result"
    }
   ],
   "source": [
    "for i in range(1):\n",
    "        url_final = url+pageNos+str(i)+baseForMontreal\n",
    "        response = requests.get(url_final)\n",
    "        soup = BeautifulSoup(response.text, \"lxml\")\n",
    "        advtTitles = soup.findAll('div', attrs={'class' : 'title'})\n",
    "        try:\n",
    "            adurl= [baseurl+link.find('a')['href'] for link in advtTitles]\n",
    "        except(Exception):\n",
    "            print(Exception)\n",
    "            \n",
    "adurl"
   ]
  },
  {
   "cell_type": "code",
   "execution_count": null,
   "id": "08120f3e",
   "metadata": {},
   "outputs": [],
   "source": [
    "ad_page = requests.get(adurl[0] , headers={'User-Agent': ''})\n",
    "ad_html=  ad_page.content\n",
    "ad_soup = BeautifulSoup(ad_html, 'lxml')"
   ]
  },
  {
   "cell_type": "code",
   "execution_count": null,
   "id": "dd3b445a",
   "metadata": {},
   "outputs": [],
   "source": [
    "adTitle = ad_soup.find(\"h1\", class_=\"title-2323565163\").text\n",
    "adTitle"
   ]
  },
  {
   "cell_type": "code",
   "execution_count": null,
   "id": "b2cfe873",
   "metadata": {},
   "outputs": [],
   "source": [
    "adPrice = ad_soup.select_one(\"span[class*=currentPrice-2842943473]\").text\n",
    "adPrice"
   ]
  },
  {
   "cell_type": "code",
   "execution_count": null,
   "id": "66094d0a",
   "metadata": {},
   "outputs": [],
   "source": [
    "adDescription = ad_soup.find_all('div', attrs={'class' : 'descriptionContainer-3261352004'})\n",
    "adDescription"
   ]
  },
  {
   "cell_type": "code",
   "execution_count": null,
   "id": "059517d5",
   "metadata": {
    "scrolled": true
   },
   "outputs": [],
   "source": [
    "desc_text= [div.find(\"div\").text for div in adDescription]\n",
    "desc_text"
   ]
  },
  {
   "cell_type": "code",
   "execution_count": null,
   "id": "5fa0c834",
   "metadata": {},
   "outputs": [],
   "source": [
    "adLocation = ad_soup.find('span', attrs={'class' : 'address-3617944557'}).text\n",
    "adLocation"
   ]
  },
  {
   "cell_type": "code",
   "execution_count": null,
   "id": "77f63207",
   "metadata": {},
   "outputs": [],
   "source": [
    "date = ad_soup.find('time').text\n",
    "date"
   ]
  },
  {
   "cell_type": "markdown",
   "id": "3d632338",
   "metadata": {},
   "source": [
    "adTitle = soup.select_one(\"h1[class*=title-2323565163]\").text\n",
    "title.append(adTitle)\n",
    "adPrice = soup.select_one(\"span[class*=currentPrice-2842943473]\").text\n",
    "prices.append(adPrice)\n",
    "adDescription = soup.find_all('div', attrs={'class' : 'descriptionContainer-3261352004'})\n",
    "desc_text= [div.find(\"div\").text for div in adDescription]\n",
    "description.append(desc_text)\n",
    "adLocation = soup.find('span', attrs={'class' : 'address-3617944557'}).text\n",
    "location.append(adLocation)\n",
    "date = soup.find('time').text   \n",
    "datePosted.append(date)"
   ]
  },
  {
   "cell_type": "code",
   "execution_count": 10,
   "id": "3417c8a0",
   "metadata": {
    "scrolled": true
   },
   "outputs": [
    {
     "data": {
      "text/plain": [
       "[<div class=\"itemAttributeCards-2416600896 itemAttributeCards__twoCards-934340663\"><div class=\"root-2377010271 light-3420168793 attributeCard-1535740193 attributeCard__twoCards-832887164\"><h3 class=\"attributeCardTitle-4135421267\">Aperçu</h3><ul class=\"list-1757374920 disablePadding-1318173106\"><li class=\"attributeGroupContainer-2199640266\"><svg class=\"icon-459822882 attributeGroupIcon-3454750106\" focusable=\"false\" height=\"100%\" role=\"img\" width=\"100%\"><use xlink:href=\"#icon-attribute-group-utilities\"></use></svg><div><h4 class=\"attributeGroupTitle-2142319834\">Services inclus</h4><ul class=\"list-1757374920 disablePadding-1318173106\">Non inclus</ul></div></li><li class=\"attributeGroupContainer-2199640266\"><svg class=\"icon-459822882 attributeGroupIcon-3454750106\" focusable=\"false\" height=\"100%\" role=\"img\" width=\"100%\"><use xlink:href=\"#icon-attribute-group-wifiandmore\"></use></svg><div><h4 class=\"attributeGroupTitle-2142319834\">Wi-Fi et plus</h4><ul class=\"list-1757374920 disablePadding-1318173106\">Non inclus</ul></div></li><li class=\"twoLinesAttribute-2286252302\"><svg class=\"icon-459822882 attributeIcon-1499443538 attributeIcon__condensed-4247835132\" focusable=\"false\" height=\"100%\" role=\"img\" width=\"100%\"><use xlink:href=\"#icon-attributes-numberparkingspots\"></use></svg><dl><dt class=\"twoLinesLabel-3766429502\">Stationnement inclus</dt><dd class=\"twoLinesValue-2815147826\">0</dd></dl></li><li class=\"twoLinesAttribute-2286252302\"><svg class=\"icon-459822882 attributeIcon-1499443538 attributeIcon__condensed-4247835132\" focusable=\"false\" height=\"100%\" role=\"img\" width=\"100%\"><use xlink:href=\"#icon-attributes-agreementtype\"></use></svg><dl><dt class=\"twoLinesLabel-3766429502\">Durée du bail</dt><dd class=\"twoLinesValue-2815147826\">1 an</dd></dl></li><li class=\"twoLinesAttribute-2286252302\"><svg class=\"icon-459822882 attributeIcon-1499443538 attributeIcon__condensed-4247835132\" focusable=\"false\" height=\"100%\" role=\"img\" width=\"100%\"><use xlink:href=\"#icon-attributes-dateavailable\"></use></svg><dl><dt class=\"twoLinesLabel-3766429502\">Date d'emménagement</dt><dd class=\"twoLinesValue-2815147826\"><span>1 juin 2021</span></dd></dl></li><li class=\"twoLinesAttribute-2286252302\"><svg class=\"icon-459822882 attributeIcon-1499443538 attributeIcon__condensed-4247835132\" focusable=\"false\" height=\"100%\" role=\"img\" width=\"100%\"><use xlink:href=\"#icon-attributes-petsallowed\"></use></svg><dl><dt class=\"twoLinesLabel-3766429502\">Animaux acceptés</dt><dd class=\"twoLinesValue-2815147826\">Limité</dd></dl></li></ul></div><div class=\"root-2377010271 light-3420168793 attributeCard-1535740193 attributeCard__twoCards-832887164\"><h3 class=\"attributeCardTitle-4135421267\">L'unité d'habitation</h3><ul class=\"list-1757374920 disablePadding-1318173106\"><li class=\"twoLinesAttribute-2286252302\"><svg class=\"icon-459822882 attributeIcon-1499443538 attributeIcon__condensed-4247835132\" focusable=\"false\" height=\"100%\" role=\"img\" width=\"100%\"><use xlink:href=\"#icon-attributes-areainfeet\"></use></svg><dl><dt class=\"twoLinesLabel-3766429502\">Taille (pieds carrés)</dt><dd class=\"twoLinesValue-2815147826\">1 200</dd></dl></li><li class=\"twoLinesAttribute-2286252302\"><svg class=\"icon-459822882 attributeIcon-1499443538 attributeIcon__condensed-4247835132\" focusable=\"false\" height=\"100%\" role=\"img\" width=\"100%\"><use xlink:href=\"#icon-attributes-furnished\"></use></svg><dl><dt class=\"twoLinesLabel-3766429502\">Meublé</dt><dd class=\"twoLinesValue-2815147826\">Non</dd></dl></li><li class=\"attributeGroupContainer-2199640266\"><svg class=\"icon-459822882 attributeGroupIcon-3454750106\" focusable=\"false\" height=\"100%\" role=\"img\" width=\"100%\"><use xlink:href=\"#icon-attribute-group-appliances\"></use></svg><div><h4 class=\"attributeGroupTitle-2142319834\">Électroménagers</h4><ul class=\"list-1757374920 disablePadding-1318173106\">Non inclus</ul></div></li><li class=\"twoLinesAttribute-2286252302\"><svg class=\"icon-459822882 attributeIcon-1499443538 attributeIcon__condensed-4247835132\" focusable=\"false\" height=\"100%\" role=\"img\" width=\"100%\"><use xlink:href=\"#icon-attributes-airconditioning\"></use></svg><dl><dt class=\"twoLinesLabel-3766429502\">Air conditionné</dt><dd class=\"twoLinesValue-2815147826\">Non</dd></dl></li><li class=\"attributeGroupContainer-2199640266\"><svg class=\"icon-459822882 attributeGroupIcon-3454750106\" focusable=\"false\" height=\"100%\" role=\"img\" width=\"100%\"><use xlink:href=\"#icon-attribute-group-outdoorspace\"></use></svg><div><h4 class=\"attributeGroupTitle-2142319834\">Espace extérieur privé</h4><ul class=\"list-1757374920 disablePadding-1318173106\"><li class=\"groupItem-4214219251\"></li><li class=\"groupItem-4214219251 available-731611581\">Balcon</li></ul></div></li><li class=\"twoLinesAttribute-2286252302\"><svg class=\"icon-459822882 attributeIcon-1499443538 attributeIcon__condensed-4247835132\" focusable=\"false\" height=\"100%\" role=\"img\" width=\"100%\"><use xlink:href=\"#icon-attributes-smokingpermitted\"></use></svg><dl><dt class=\"twoLinesLabel-3766429502\">Fumeurs acceptés</dt><dd class=\"twoLinesValue-2815147826\">Seulement à l'extérieur</dd></dl></li></ul></div></div>]"
      ]
     },
     "execution_count": 10,
     "metadata": {},
     "output_type": "execute_result"
    }
   ],
   "source": [
    "t_page = requests.get(adurl[0] , headers={'User-Agent': ''})\n",
    "t_html=  t_page.content\n",
    "t_soup = BeautifulSoup(t_html, 'lxml')\n",
    "adfts = t_soup.find_all('div', attrs={'class' : 'itemAttributeCards-2416600896'})\n",
    "adfts"
   ]
  },
  {
   "cell_type": "code",
   "execution_count": 30,
   "id": "b470046c",
   "metadata": {},
   "outputs": [
    {
     "name": "stdout",
     "output_type": "stream",
     "text": [
      "['[<dd class=\"twoLinesValue-2815147826\">0</dd>', ' <dd class=\"twoLinesValue-2815147826\">1 an</dd>', ' <dd class=\"twoLinesValue-2815147826\"><span>1 juin 2021</span></dd>', ' <dd class=\"twoLinesValue-2815147826\">Limité</dd>', ' <dd class=\"twoLinesValue-2815147826\">1\\xa0200</dd>', ' <dd class=\"twoLinesValue-2815147826\">Non</dd>', ' <dd class=\"twoLinesValue-2815147826\">Non</dd>', ' <dd class=\"twoLinesValue-2815147826\">Seulement à l\\'extérieur</dd>]']\n"
     ]
    }
   ],
   "source": [
    "listDetails= \"\"\n",
    "features= []\n",
    "\n",
    "t_page = requests.get(adurl[0] , headers={'User-Agent': ''})\n",
    "t_html=  t_page.content\n",
    "t_soup = BeautifulSoup(t_html, 'lxml')\n",
    "adfts = t_soup.find_all('div', attrs={'class' : 'itemAttributeCards-2416600896'})\n",
    "\n",
    "apartments_features_cols= ['Stationnement inclus','Durée du bail',\"Date d'emménagement\",'Animaux acceptés',\n",
    "                           'Taille (pieds carrés)','Meublé','Air conditionné','Fumeurs acceptés']\n",
    "\n",
    "for div in adfts:\n",
    "    dd= str(div.find_all(\"dd\")).split(\",\")\n",
    "    dd_clean= [dd[i][38:-5] for i in range(len(dd))]\n",
    "    listDetails = listDetails + str(dd_clean) + \"|\"\n",
    "features.append(listDetails)"
   ]
  },
  {
   "cell_type": "code",
   "execution_count": 33,
   "id": "2f764c0a",
   "metadata": {
    "scrolled": true
   },
   "outputs": [
    {
     "data": {
      "text/plain": [
       "['[\\'0\\', \\'1 an\\', \\'<span>1 juin 2021</span>\\', \\'Limité\\', \\'1\\\\xa0200\\', \\'Non\\', \\'Non\\', \"Seulement à l\\'extérieur<\"]|']"
      ]
     },
     "execution_count": 33,
     "metadata": {},
     "output_type": "execute_result"
    }
   ],
   "source": [
    "features"
   ]
  },
  {
   "cell_type": "code",
   "execution_count": 17,
   "id": "b639d509",
   "metadata": {},
   "outputs": [
    {
     "data": {
      "text/plain": [
       "1"
      ]
     },
     "execution_count": 17,
     "metadata": {},
     "output_type": "execute_result"
    }
   ],
   "source": [
    "detalles= [div.find_all(\"dt\") for div in adfts]\n",
    "len(detalles)"
   ]
  },
  {
   "cell_type": "code",
   "execution_count": 38,
   "id": "f624da0c",
   "metadata": {},
   "outputs": [
    {
     "data": {
      "text/plain": [
       "'1569630589'"
      ]
     },
     "execution_count": 38,
     "metadata": {},
     "output_type": "execute_result"
    }
   ],
   "source": [
    "('https://www.kijiji.ca/v-appartement-condo/ville-de-montreal/4-5-apt-verdun-925/1569630589')[-10:]"
   ]
  },
  {
   "cell_type": "code",
   "execution_count": null,
   "id": "5b096134",
   "metadata": {},
   "outputs": [],
   "source": [
    "adfts = ad_soup.find_all('span', attrs={'class' : 'noLabelValue-3861810455'})"
   ]
  },
  {
   "cell_type": "code",
   "execution_count": null,
   "id": "ab52131f",
   "metadata": {},
   "outputs": [],
   "source": [
    "room_test= 'https://www.kijiji.ca/v-chambres-a-louer-colocataire/ville-de-montreal/personal-room-for-2-months/1569718469'\n",
    "    \n",
    "room_page = requests.get(room_test , headers={'User-Agent': ''})\n",
    "room_html=  room_page.content\n",
    "room_soup = BeautifulSoup(room_html, 'lxml')"
   ]
  },
  {
   "cell_type": "code",
   "execution_count": null,
   "id": "d32f7091",
   "metadata": {},
   "outputs": [],
   "source": [
    "room = room_soup.find_all('dl', attrs={'class' : 'itemAttribute-1164924913'})\n",
    "room"
   ]
  },
  {
   "cell_type": "code",
   "execution_count": null,
   "id": "81ead9ff",
   "metadata": {},
   "outputs": [],
   "source": [
    "adfts = soup.find_all('dl', attrs={'class' : 'itemAttribute-983037059'})\n",
    "for i in room:\n",
    "    dd = i.find('dd').text\n",
    "    dt = i.find('dt').text\n",
    "\n",
    "dd\n",
    "dt"
   ]
  },
  {
   "cell_type": "code",
   "execution_count": null,
   "id": "53a291d3",
   "metadata": {},
   "outputs": [],
   "source": []
  },
  {
   "cell_type": "code",
   "execution_count": null,
   "id": "ea06ecb2",
   "metadata": {},
   "outputs": [],
   "source": [
    "dt"
   ]
  },
  {
   "cell_type": "code",
   "execution_count": null,
   "id": "11349d0d",
   "metadata": {},
   "outputs": [],
   "source": [
    "for url in adurl:\n",
    "        print(url)\n",
    "        response = requests.get(url)\n",
    "        soup = BeautifulSoup(response.text, \"lxml\")\n",
    "        try:\n",
    "            adTitle = soup.select_one(\"h1[class*=title-2323565163]\").text\n",
    "            title.append(adTitle)\n",
    "            adPrice = soup.select_one(\"span[class*=currentPrice-2842943473]\").text\n",
    "            prices.append(adPrice)\n",
    "            adDescription = soup.find_all('div', attrs={'class' : 'descriptionContainer-3261352004'})\n",
    "            desc_text= [div.find(\"div\").text for div in adDescription]\n",
    "            description.append(desc_text)\n",
    "            adLocation = soup.find('span', attrs={'class' : 'address-3617944557'}).text\n",
    "            location.append(adLocation)\n",
    "            date = soup.find('time').text   \n",
    "            datePosted.append(date)\n",
    "            \n",
    "            if apartment in url:\n",
    "                adfts = ad_soup.find_all('span', attrs={'class' : 'noLabelValue-3861810455'})\n",
    "                features = [adfts[i].text for i in range(len(adfts))\n",
    "            else:                \n",
    "                adfts = soup.find_all('dd', attrs={'class' : 'attributeValue-2574930263'})\n",
    "                            \n",
    "                features = [adfts[i].text for i in range(len(adfts))]\n",
    "                listingType.append(\"Room\")\n",
    "\n",
    "        except Exception as e: \n",
    "            print(e)\n",
    "            pass"
   ]
  },
  {
   "cell_type": "code",
   "execution_count": null,
   "id": "ed7db4ad",
   "metadata": {
    "scrolled": true
   },
   "outputs": [],
   "source": [
    "datePosted"
   ]
  },
  {
   "cell_type": "code",
   "execution_count": null,
   "id": "f94c6caa",
   "metadata": {},
   "outputs": [],
   "source": []
  }
 ],
 "metadata": {
  "kernelspec": {
   "display_name": "Python 3",
   "language": "python",
   "name": "python3"
  },
  "language_info": {
   "codemirror_mode": {
    "name": "ipython",
    "version": 3
   },
   "file_extension": ".py",
   "mimetype": "text/x-python",
   "name": "python",
   "nbconvert_exporter": "python",
   "pygments_lexer": "ipython3",
   "version": "3.7.10"
  }
 },
 "nbformat": 4,
 "nbformat_minor": 5
}
